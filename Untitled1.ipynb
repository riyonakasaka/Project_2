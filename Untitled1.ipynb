{
 "cells": [
  {
   "cell_type": "code",
   "execution_count": 5,
   "id": "f55f783b-a219-4c1a-9cbc-b063c1a1322c",
   "metadata": {},
   "outputs": [
    {
     "name": "stderr",
     "output_type": "stream",
     "text": [
      "/var/folders/qy/6hhj9p8x12vd7qr4yhjck7vc0000gn/T/ipykernel_18826/3328322839.py:10: FutureWarning: 'M' is deprecated and will be removed in a future version, please use 'ME' instead.\n",
      "  data['Dates'] = pd.date_range(start='2021-10', periods=len(data['Positive']), freq='M')\n"
     ]
    }
   ],
   "source": [
    "import pandas as pd\n",
    "\n",
    "# サンプルのデータを作成する\n",
    "data = {\n",
    "    'Positive': [ 59.0, 61.0, 65.0, 59.0, 55.0, 61.0, 64.0, 66.0, 60.0, 58.0, 57.0, 43.0, 42.0, 37.0, 35.0, 39.0, 43.0, 48.0, 52.0, 47.0, 39.0, 40.0, 42.0, 42.0, 33.0, 30.0, 26.0, 27.0, 25.0, 26.0, 26.0, 28.0, 25.0],\n",
    "    'Negative': [25.0, 27.0, 26.0, 30.0, 31.0, 27.0, 27.0, 23.0, 32.0, 32.0, 35.0, 49.0, 49.0, 55.0, 57.0, 54.0, 49.0, 44.0, 40.0, 44.0, 51.0, 51.0, 50.0, 51.0, 59.0, 62.0, 68.0, 66.0, 67.0, 66.0, 69.0, 67.0, 67.0],\n",
    "}\n",
    "\n",
    "# 'Dates' 列を追加する\n",
    "data['Dates'] = pd.date_range(start='2021-10', periods=len(data['Positive']), freq='M')\n",
    "\n",
    "# データフレームを作成する\n",
    "df = pd.DataFrame(data)\n",
    "df['Dates'] = df['Dates'].dt.strftime('%Y-%m')\n",
    "\n",
    "# 結果を表示する\n",
    "df.to_csv('Cabinet＿approval＿rating.csv')"
   ]
  },
  {
   "cell_type": "code",
   "execution_count": null,
   "id": "41df2423-225d-489a-b3b8-5d4393c35e3a",
   "metadata": {},
   "outputs": [],
   "source": []
  }
 ],
 "metadata": {
  "kernelspec": {
   "display_name": "Python 3 (ipykernel)",
   "language": "python",
   "name": "python3"
  },
  "language_info": {
   "codemirror_mode": {
    "name": "ipython",
    "version": 3
   },
   "file_extension": ".py",
   "mimetype": "text/x-python",
   "name": "python",
   "nbconvert_exporter": "python",
   "pygments_lexer": "ipython3",
   "version": "3.11.8"
  }
 },
 "nbformat": 4,
 "nbformat_minor": 5
}
