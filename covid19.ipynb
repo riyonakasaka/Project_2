{
 "cells": [
  {
   "cell_type": "code",
   "execution_count": null,
   "id": "d10d7096-eeed-4c62-81df-0f483240c7b5",
   "metadata": {},
   "outputs": [],
   "source": []
  }
 ],
 "metadata": {
  "kernelspec": {
   "display_name": "",
   "name": ""
  },
  "language_info": {
   "name": ""
  }
 },
 "nbformat": 4,
 "nbformat_minor": 5
}
